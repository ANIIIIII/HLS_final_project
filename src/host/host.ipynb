{
 "cells": [
  {
   "cell_type": "code",
   "execution_count": 1,
   "metadata": {},
   "outputs": [
    {
     "data": {
      "application/javascript": [
       "\n",
       "try {\n",
       "require(['notebook/js/codecell'], function(codecell) {\n",
       "  codecell.CodeCell.options_default.highlight_modes[\n",
       "      'magic_text/x-csrc'] = {'reg':[/^%%microblaze/]};\n",
       "  Jupyter.notebook.events.one('kernel_ready.Kernel', function(){\n",
       "      Jupyter.notebook.get_cells().map(function(cell){\n",
       "          if (cell.cell_type == 'code'){ cell.auto_highlight(); } }) ;\n",
       "  });\n",
       "});\n",
       "} catch (e) {};\n"
      ]
     },
     "metadata": {},
     "output_type": "display_data"
    },
    {
     "data": {
      "application/javascript": [
       "\n",
       "try {\n",
       "require(['notebook/js/codecell'], function(codecell) {\n",
       "  codecell.CodeCell.options_default.highlight_modes[\n",
       "      'magic_text/x-csrc'] = {'reg':[/^%%pybind11/]};\n",
       "  Jupyter.notebook.events.one('kernel_ready.Kernel', function(){\n",
       "      Jupyter.notebook.get_cells().map(function(cell){\n",
       "          if (cell.cell_type == 'code'){ cell.auto_highlight(); } }) ;\n",
       "  });\n",
       "});\n",
       "} catch (e) {};\n"
      ]
     },
     "metadata": {},
     "output_type": "display_data"
    }
   ],
   "source": [
    "import sys\n",
    "from time import time\n",
    "from pynq import Overlay\n",
    "from pynq import allocate\n",
    "from __future__ import print_function"
   ]
  },
  {
   "cell_type": "code",
   "execution_count": 2,
   "metadata": {},
   "outputs": [],
   "source": [
    "ROOT = '/home/xilinx/IPBitFile'\n",
    "PATH = ROOT + '/design_1.bit'\n",
    "\n",
    "ol = Overlay(PATH)\n",
    "encIP = ol.encrypt_0"
   ]
  },
  {
   "cell_type": "code",
   "execution_count": 3,
   "metadata": {},
   "outputs": [],
   "source": [
    "# contrl signal\n",
    "CONTROL = 0x0\n",
    "AP_START = 0x01\n",
    "AP_DONE = 0x02\n",
    "AP_IDLE = 0x04\n",
    "AP_READY = 0x08\n",
    "\n",
    "# i/O port\n",
    "KEY_V = 0x10\n",
    "# KEY_V_2 = 0x14\n",
    "# KEY_V_3 = 0x18\n",
    "# KEY_V_4 = 0x1C\n",
    "\n",
    "P_V_I = 0x24\n",
    "# P_V_I_2 = 0x28\n",
    "\n",
    "P_V_O_1 = 0x30\n",
    "P_V_O_2 = 0x34"
   ]
  },
  {
   "cell_type": "code",
   "execution_count": 4,
   "metadata": {},
   "outputs": [
    {
     "name": "stdout",
     "output_type": "stream",
     "text": [
      "Enter 128-bit key (in hex form): \n",
      "Enter 64-bit plaintext (in hex form): \n",
      "key:  0x0\n",
      "plaintext:  0x68656c6c6f030303\n"
     ]
    }
   ],
   "source": [
    "key = input(\"Enter 128-bit key (in hex form): \") or \"0x0\"\n",
    "plaintext = input(\"Enter 64-bit plaintext (in hex form): \") or \"0x68656c6c6f030303\"\n",
    "\n",
    "print(\"key: \", key)\n",
    "print(\"plaintext: \", plaintext)\n",
    "\n",
    "key = int(key, 16)\n",
    "plaintext = int(plaintext, 16)\n",
    "flag = 0xffffffff\n",
    "\n",
    "# write key input\n",
    "for i in range(4):\n",
    "    encIP.write(KEY_V + 4*i, key & flag)\n",
    "    key = key >> 32\n",
    "\n",
    "# write plain-text input\n",
    "for i in range(2):\n",
    "    encIP.write(P_V_I + 4*i, plaintext & flag)\n",
    "    plaintext = plaintext >> 32"
   ]
  },
  {
   "cell_type": "code",
   "execution_count": 5,
   "metadata": {},
   "outputs": [
    {
     "name": "stdout",
     "output_type": "stream",
     "text": [
      "encypted text:  0x8f37136d610148ae\n",
      "execute time:  0.6861686706542969 ms\n",
      "=====================================\n",
      "process done!\n"
     ]
    }
   ],
   "source": [
    "# start\n",
    "encIP.write(CONTROL, AP_START)\n",
    "exeStartTime = time()\n",
    "while encIP.read(CONTROL) & AP_IDLE == 0x0:\n",
    "\tcontinue\n",
    "\n",
    "exeEndTime = time()\n",
    "res_low = encIP.read(P_V_O_1)\n",
    "res_high = encIP.read(P_V_O_2)\n",
    "print(\"encypted text: \", hex(res_high) + hex(res_low)[2:])\n",
    "print(\"execute time: \", str(1000 * (exeEndTime - exeStartTime)), \"ms\")\n",
    "\n",
    "print(\"=====================================\")\n",
    "print(\"process done!\")"
   ]
  }
 ],
 "metadata": {
  "kernelspec": {
   "display_name": "Python 3",
   "language": "python",
   "name": "python3"
  },
  "language_info": {
   "codemirror_mode": {
    "name": "ipython",
    "version": 3
   },
   "file_extension": ".py",
   "mimetype": "text/x-python",
   "name": "python",
   "nbconvert_exporter": "python",
   "pygments_lexer": "ipython3",
   "version": "3.6.5"
  }
 },
 "nbformat": 4,
 "nbformat_minor": 2
}
